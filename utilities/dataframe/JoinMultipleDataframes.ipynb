{
 "cells": [
  {
   "cell_type": "code",
   "execution_count": 1,
   "metadata": {},
   "outputs": [],
   "source": [
    "import pandas as pd"
   ]
  },
  {
   "cell_type": "markdown",
   "metadata": {},
   "source": [
    "### Loading the Datasets in Python"
   ]
  },
  {
   "cell_type": "code",
   "execution_count": 2,
   "metadata": {},
   "outputs": [],
   "source": [
    "results1=pd.read_csv('data\\\\unittests.csv', sep=';')\n",
    "results2=pd.read_csv('data\\\\integrationtests.csv', sep=';')\n",
    "IDandTestName=pd.read_csv('data\\\\testIDandName.csv', sep=';')"
   ]
  },
  {
   "cell_type": "markdown",
   "metadata": {},
   "source": [
    "### Check some rows of each dataframe"
   ]
  },
  {
   "cell_type": "code",
   "execution_count": 3,
   "metadata": {},
   "outputs": [
    {
     "data": {
      "text/html": [
       "<div>\n",
       "<style scoped>\n",
       "    .dataframe tbody tr th:only-of-type {\n",
       "        vertical-align: middle;\n",
       "    }\n",
       "\n",
       "    .dataframe tbody tr th {\n",
       "        vertical-align: top;\n",
       "    }\n",
       "\n",
       "    .dataframe thead th {\n",
       "        text-align: right;\n",
       "    }\n",
       "</style>\n",
       "<table border=\"1\" class=\"dataframe\">\n",
       "  <thead>\n",
       "    <tr style=\"text-align: right;\">\n",
       "      <th></th>\n",
       "      <th>id</th>\n",
       "      <th>testname</th>\n",
       "    </tr>\n",
       "  </thead>\n",
       "  <tbody>\n",
       "    <tr>\n",
       "      <th>0</th>\n",
       "      <td>275280</td>\n",
       "      <td>unittest1</td>\n",
       "    </tr>\n",
       "    <tr>\n",
       "      <th>1</th>\n",
       "      <td>275283</td>\n",
       "      <td>unittest2</td>\n",
       "    </tr>\n",
       "    <tr>\n",
       "      <th>2</th>\n",
       "      <td>175244</td>\n",
       "      <td>unittest3</td>\n",
       "    </tr>\n",
       "    <tr>\n",
       "      <th>3</th>\n",
       "      <td>256792</td>\n",
       "      <td>unittestSmoke</td>\n",
       "    </tr>\n",
       "    <tr>\n",
       "      <th>4</th>\n",
       "      <td>132982</td>\n",
       "      <td>unittestRegression</td>\n",
       "    </tr>\n",
       "  </tbody>\n",
       "</table>\n",
       "</div>"
      ],
      "text/plain": [
       "       id            testname\n",
       "0  275280           unittest1\n",
       "1  275283           unittest2\n",
       "2  175244           unittest3\n",
       "3  256792       unittestSmoke\n",
       "4  132982  unittestRegression"
      ]
     },
     "execution_count": 3,
     "metadata": {},
     "output_type": "execute_result"
    }
   ],
   "source": [
    "results1.head()\n",
    "results2.head()\n",
    "IDandTestName.head()"
   ]
  },
  {
   "cell_type": "markdown",
   "metadata": {},
   "source": [
    "### Combining 2 similar dataframes (append)"
   ]
  },
  {
   "cell_type": "code",
   "execution_count": 4,
   "metadata": {},
   "outputs": [
    {
     "data": {
      "text/plain": [
       "((11, 3), (11, 3), (22, 3))"
      ]
     },
     "execution_count": 4,
     "metadata": {},
     "output_type": "execute_result"
    }
   ],
   "source": [
    "allResults=results1.append(results2)\n",
    "results1.shape, results2.shape, allResults.shape\n",
    "# the append function adds the two dataframes vertically"
   ]
  },
  {
   "cell_type": "code",
   "execution_count": 5,
   "metadata": {},
   "outputs": [
    {
     "name": "stdout",
     "output_type": "stream",
     "text": [
      "184.72727272727272\n",
      "315\n"
     ]
    }
   ],
   "source": [
    "# Take a look at the content of ‘allResults’ and calculate the mean/max:\n",
    "allResults.head()\n",
    "mean = allResults['duration'].mean() # Average duration of the testruns\n",
    "print(mean)\n",
    "max = allResults['duration'].max()   # Maximum duration of the testruns\n",
    "print(max)"
   ]
  },
  {
   "cell_type": "markdown",
   "metadata": {},
   "source": [
    "### Combining information from 2 dataframes (merge)"
   ]
  },
  {
   "cell_type": "code",
   "execution_count": 6,
   "metadata": {},
   "outputs": [
    {
     "data": {
      "text/html": [
       "<div>\n",
       "<style scoped>\n",
       "    .dataframe tbody tr th:only-of-type {\n",
       "        vertical-align: middle;\n",
       "    }\n",
       "\n",
       "    .dataframe tbody tr th {\n",
       "        vertical-align: top;\n",
       "    }\n",
       "\n",
       "    .dataframe thead th {\n",
       "        text-align: right;\n",
       "    }\n",
       "</style>\n",
       "<table border=\"1\" class=\"dataframe\">\n",
       "  <thead>\n",
       "    <tr style=\"text-align: right;\">\n",
       "      <th></th>\n",
       "      <th>id</th>\n",
       "      <th>result</th>\n",
       "      <th>duration</th>\n",
       "      <th>testname</th>\n",
       "    </tr>\n",
       "  </thead>\n",
       "  <tbody>\n",
       "    <tr>\n",
       "      <th>0</th>\n",
       "      <td>275280</td>\n",
       "      <td>FAILED</td>\n",
       "      <td>205</td>\n",
       "      <td>unittest1</td>\n",
       "    </tr>\n",
       "    <tr>\n",
       "      <th>1</th>\n",
       "      <td>275283</td>\n",
       "      <td>FAILED</td>\n",
       "      <td>203</td>\n",
       "      <td>unittest2</td>\n",
       "    </tr>\n",
       "    <tr>\n",
       "      <th>2</th>\n",
       "      <td>175244</td>\n",
       "      <td>FAILED</td>\n",
       "      <td>120</td>\n",
       "      <td>unittest3</td>\n",
       "    </tr>\n",
       "    <tr>\n",
       "      <th>3</th>\n",
       "      <td>256792</td>\n",
       "      <td>PASSED</td>\n",
       "      <td>206</td>\n",
       "      <td>unittestSmoke</td>\n",
       "    </tr>\n",
       "    <tr>\n",
       "      <th>4</th>\n",
       "      <td>132982</td>\n",
       "      <td>PASSED</td>\n",
       "      <td>201</td>\n",
       "      <td>unittestRegression</td>\n",
       "    </tr>\n",
       "  </tbody>\n",
       "</table>\n",
       "</div>"
      ],
      "text/plain": [
       "       id  result  duration            testname\n",
       "0  275280  FAILED       205           unittest1\n",
       "1  275283  FAILED       203           unittest2\n",
       "2  175244  FAILED       120           unittest3\n",
       "3  256792  PASSED       206       unittestSmoke\n",
       "4  132982  PASSED       201  unittestRegression"
      ]
     },
     "execution_count": 6,
     "metadata": {},
     "output_type": "execute_result"
    }
   ],
   "source": [
    "mergedData=allResults.merge(IDandTestName, on='id')\n",
    "mergedData.head()\n",
    "# Finally, the result dataframe contains the testnames mapped along with their results and duration times."
   ]
  },
  {
   "cell_type": "code",
   "execution_count": 7,
   "metadata": {
    "scrolled": false
   },
   "outputs": [
    {
     "data": {
      "text/html": [
       "<div>\n",
       "<style scoped>\n",
       "    .dataframe tbody tr th:only-of-type {\n",
       "        vertical-align: middle;\n",
       "    }\n",
       "\n",
       "    .dataframe tbody tr th {\n",
       "        vertical-align: top;\n",
       "    }\n",
       "\n",
       "    .dataframe thead th {\n",
       "        text-align: right;\n",
       "    }\n",
       "</style>\n",
       "<table border=\"1\" class=\"dataframe\">\n",
       "  <thead>\n",
       "    <tr style=\"text-align: right;\">\n",
       "      <th></th>\n",
       "      <th>id</th>\n",
       "      <th>result</th>\n",
       "      <th>duration</th>\n",
       "      <th>testname</th>\n",
       "    </tr>\n",
       "  </thead>\n",
       "  <tbody>\n",
       "    <tr>\n",
       "      <th>5</th>\n",
       "      <td>268943</td>\n",
       "      <td>TIMEOUT</td>\n",
       "      <td>315</td>\n",
       "      <td>unittest4</td>\n",
       "    </tr>\n",
       "    <tr>\n",
       "      <th>14</th>\n",
       "      <td>356792</td>\n",
       "      <td>TIMEOUT</td>\n",
       "      <td>300</td>\n",
       "      <td>integrationtest4</td>\n",
       "    </tr>\n",
       "    <tr>\n",
       "      <th>15</th>\n",
       "      <td>432982</td>\n",
       "      <td>PASSED</td>\n",
       "      <td>300</td>\n",
       "      <td>integrationtest5</td>\n",
       "    </tr>\n",
       "  </tbody>\n",
       "</table>\n",
       "</div>"
      ],
      "text/plain": [
       "        id   result  duration          testname\n",
       "5   268943  TIMEOUT       315         unittest4\n",
       "14  356792  TIMEOUT       300  integrationtest4\n",
       "15  432982   PASSED       300  integrationtest5"
      ]
     },
     "execution_count": 7,
     "metadata": {},
     "output_type": "execute_result"
    }
   ],
   "source": [
    "# Check the rows where the 'duration' is more than 300s:\n",
    "mergedData.loc[mergedData['duration']>=300]"
   ]
  },
  {
   "cell_type": "code",
   "execution_count": null,
   "metadata": {},
   "outputs": [],
   "source": [
    "'''Important argument of merge is ‘how’. \n",
    "This specifies the type of join you want to perform on the dataframes. \n",
    "Here are the different join types you can perform (SQL users will be very familiar with this):\n",
    "\n",
    "Inner join (performed by default if you don’t provide any argument)\n",
    "Outer join\n",
    "Right join\n",
    "Left join\n",
    "\n",
    "'''"
   ]
  }
 ],
 "metadata": {
  "kernelspec": {
   "display_name": "Python 3",
   "language": "python",
   "name": "python3"
  },
  "language_info": {
   "codemirror_mode": {
    "name": "ipython",
    "version": 3
   },
   "file_extension": ".py",
   "mimetype": "text/x-python",
   "name": "python",
   "nbconvert_exporter": "python",
   "pygments_lexer": "ipython3",
   "version": "3.6.5"
  }
 },
 "nbformat": 4,
 "nbformat_minor": 2
}
