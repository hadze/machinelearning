{
 "cells": [
  {
   "cell_type": "code",
   "execution_count": null,
   "metadata": {},
   "outputs": [],
   "source": [
    "import pandas as pd"
   ]
  },
  {
   "cell_type": "markdown",
   "execution_count": null,
   "metadata": {},
   "outputs": [],
   "source": [
    "### Loading the Datasets in Python"
   ]
  },
  {
   "cell_type": "code",
   "execution_count": null,
   "metadata": {},
   "outputs": [],
   "source": [
    "results1=pd.read_csv('data/unittests.csv', sep=';')\n",
    "results2=pd.read_csv('data/integrationtests.csv', sep=';')\n",
    "IDandTestName=pd.read_csv('data/testIDandName.csv', sep=';')"
   ]
  },
  {
   "cell_type": "markdown",
   "execution_count": null,
   "metadata": {},
   "outputs": [],
   "source": [
    "### Check some rows of each dataframe"
   ]
  },
  {
   "cell_type": "code",
   "execution_count": null,
   "metadata": {},
   "outputs": [],
   "source": [
    "results1.head()\n",
    "results2.head()\n",
    "IDandTestName.head()"
   ]
  },
  {
   "cell_type": "markdown",
   "execution_count": null,
   "metadata": {},
   "outputs": [],
   "source": [
    "### Combining 2 similar dataframes (append)"
   ]
  },
  {
   "cell_type": "code",
   "execution_count": null,
   "metadata": {},
   "outputs": [],
   "source": [
    "allResults=results1.append(results2)\n",
    "results1.shape, results2.shape, allResults.shape\n",
    "# the append function adds the two dataframes vertically"
   ]
  },
  {
   "cell_type": "code",
   "execution_count": null,
   "metadata": {},
   "outputs": [],
   "source": [
    "# Take a look at the content of ‘allResults’ and calculate the mean/max:\n",
    "allResults.head()\n",
    "mean = allResults['duration'].mean() # Average duration of the testruns\n",
    "print(mean)\n",
    "max = allResults['duration'].max()   # Maximum duration of the testruns\n",
    "print(max)"
   ]
  },
  {
   "cell_type": "markdown",
   "execution_count": null,
   "metadata": {},
   "outputs": [],
   "source": [
    "### Combining information from 2 dataframes (merge)"
   ]
  },
  {
   "cell_type": "code",
   "execution_count": null,
   "metadata": {},
   "outputs": [],
   "source": [
    "mergedData=allResults.merge(IDandTestName, on='id')\n",
    "mergedData.head()\n",
    "# Finally, the result dataframe contains the testnames mapped along with their results and duration times."
   ]
  },
  {
   "cell_type": "code",
   "execution_count": null,
   "metadata": {},
   "outputs": [],
   "source": [
    "# Check the rows where the 'duration' is more than 300s:\n",
    "mergedData.loc[mergedData['duration']>=300]"
   ]
  },
  {
   "cell_type": "code",
   "execution_count": null,
   "metadata": {},
   "outputs": [],
   "source": [
    "'''Important argument of merge is ‘how’. \n",
    "This specifies the type of join you want to perform on the dataframes. \n",
    "Here are the different join types you can perform (SQL users will be very familiar with this):\n",
    "\n",
    "Inner join (performed by default if you don’t provide any argument)\n",
    "Outer join\n",
    "Right join\n",
    "Left join\n",
    "\n",
    "'''"
   ]
  }
 ],
 "metadata": {
  "kernelspec": {
   "display_name": "Python 3",
   "language": "python",
   "name": "python3"
  },
  "language_info": {
   "codemirror_mode": {
    "name": "ipython",
    "version": 3
   },
   "file_extension": ".py",
   "mimetype": "text/x-python",
   "name": "python",
   "nbconvert_exporter": "python",
   "pygments_lexer": "ipython3",
   "version": "3.7.4-final"
  }
 },
 "nbformat": 4,
 "nbformat_minor": 2
}